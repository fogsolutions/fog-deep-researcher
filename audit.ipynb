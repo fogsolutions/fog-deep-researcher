{
 "cells": [
  {
   "cell_type": "code",
   "execution_count": null,
   "metadata": {},
   "outputs": [],
   "source": [
    "\n",
    "from gpt_researcher import GPTResearcher\n",
    "from gpt_researcher.utils.enum import ReportType, ReportSource, Tone\n",
    "\n",
    "query = \"why is Nvidia stock going up?\"\n",
    "researcher = GPTResearcher(\n",
    "    query=query, \n",
    "    report_type=ReportType.ResearchReport, \n",
    "    report_format=\"markdown\", \n",
    "    report_source=ReportSource.Web, \n",
    "    tone=Tone.Analytical, \n",
    "    source_urls=None, \n",
    "    document_urls=None)\n",
    "\n",
    "research_result = await researcher.conduct_research()\n",
    "\n",
    "report = await researcher.write_report()"
   ]
  }
 ],
 "metadata": {
  "kernelspec": {
   "display_name": ".venv",
   "language": "python",
   "name": "python3"
  },
  "language_info": {
   "name": "python",
   "version": "3.11.11"
  }
 },
 "nbformat": 4,
 "nbformat_minor": 2
}
